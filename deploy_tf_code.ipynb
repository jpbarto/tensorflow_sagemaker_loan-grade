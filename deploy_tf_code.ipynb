{
 "cells": [
  {
   "cell_type": "markdown",
   "metadata": {},
   "source": [
    "## TensorFlow in SageMaker\n",
    "Based on https://docs.aws.amazon.com/sagemaker/latest/dg/tf-examples.html and https://github.com/awslabs/amazon-sagemaker-examples/blob/master/sagemaker-python-sdk/tensorflow_abalone_age_predictor_using_keras/abalone.py\n",
    "\n",
    "For more information on using TensorFlow estimators with SageMaker see https://github.com/aws/sagemaker-python-sdk#tensorflow-sagemaker-estimators\n",
    "\n",
    "SageMaker allows for training of models across multiple nodes and can host the resulting models as a RESTful endpoint for consumption.  SageMaker can also take a custom TensorFlow body of code and execute it using a SageMaker container (no need to bring-your-own-algo in your own container).  \n",
    "\n",
    "This notebook uses the example cited above to adapt the Tensorflow code from https://github.com/jamesandersen/aws-machine-learning-demo and train / host the code in SageMaker."
   ]
  },
  {
   "cell_type": "code",
   "execution_count": null,
   "metadata": {},
   "outputs": [],
   "source": [
    "! cat sage_model.py"
   ]
  },
  {
   "cell_type": "code",
   "execution_count": null,
   "metadata": {
    "collapsed": true
   },
   "outputs": [],
   "source": [
    "# Initialize variables\n",
    "from sagemaker import get_execution_role\n",
    "\n",
    "# Bucket location to save your custom code in tar.gz format.\n",
    "custom_code_upload_location = 's3://jasbarto-sagemaker-eval/loan_grade/tensorflow/customcode'\n",
    "\n",
    "# Bucket location where results of model training are saved.\n",
    "model_artifacts_location = 's3://jasbarto-sagemaker-eval/loan_grade/tensorflow/artifacts'\n",
    "\n",
    "# IAM execution role that gives SageMaker access to resources in your AWS account.\n",
    "role = get_execution_role()"
   ]
  },
  {
   "cell_type": "code",
   "execution_count": null,
   "metadata": {},
   "outputs": [],
   "source": [
    "# Train the model, providing the custom Tensorflow code\n",
    "from sagemaker.tensorflow import TensorFlow\n",
    "\n",
    "loan_grade_estimator = TensorFlow(\n",
    "                            base_job_name = 'loan-grade-tensorflow', # provide a base name for the training job\n",
    "                            entry_point='sage_model.py', # pass a reference to the Python source file for the model\n",
    "                            role = role, # use the same role defined for this notebook\n",
    "                            output_path = model_artifacts_location, # where to deposit the resulting trained model\n",
    "                            code_location = custom_code_upload_location, # where to upload the Python script in S3\n",
    "                            train_instance_count = 1, # how many instances to use to train the model\n",
    "                            train_instance_type = 'ml.c4.xlarge',\n",
    "                            training_steps = 250000, # how many steps of training to perform\n",
    "                            evaluation_steps = None, # evaluate the model until evaluation data is consumed\n",
    "                            hyperparameters = {\n",
    "                                'learning_rate': 0.001, # parameter passed to Tensorflow optimization\n",
    "                                'min_eval_frequency': 1000, # \n",
    "                                'save_checkpoints_secs': 3\n",
    "                                'save_summary_steps': 1000\n",
    "                            }\n",
    "                        )"
   ]
  },
  {
   "cell_type": "markdown",
   "metadata": {},
   "source": [
    "## Train the model\n",
    "\n",
    "SageMaker enables familiar tools like TensorBoard to be used with the model training process.  The ``fit`` function below runs an instance of TensorBoard which can be accessed at [/proxy/6006/](/proxy/6006/)."
   ]
  },
  {
   "cell_type": "code",
   "execution_count": null,
   "metadata": {},
   "outputs": [],
   "source": [
    "# start the training\n",
    "%time\n",
    "import boto3\n",
    "\n",
    "region = boto3.Session().region_name\n",
    "train_data_location = 's3://jasbarto-sagemaker-eval/loan_grade_data'\n",
    "\n",
    "loan_grade_estimator.fit(train_data_location, run_tensorboard_locally = True)"
   ]
  },
  {
   "cell_type": "code",
   "execution_count": null,
   "metadata": {},
   "outputs": [],
   "source": [
    "%%time\n",
    "# deploy the trained model\n",
    "\n",
    "training_job_name = loan_grade_estimator.latest_training_job.name\n",
    "print (\"Deploying training job: {}\".format (training_job_name))\n",
    "\n",
    "loan_grade_predictor = loan_grade_estimator.deploy(initial_instance_count = 1, instance_type = 'ml.m4.xlarge')"
   ]
  },
  {
   "cell_type": "markdown",
   "metadata": {},
   "source": [
    "## Evaluate the effectiveness of the deployed, trained model"
   ]
  },
  {
   "cell_type": "code",
   "execution_count": null,
   "metadata": {},
   "outputs": [],
   "source": [
    "import sage_model\n",
    "import tensorflow as tf\n",
    "import numpy as np\n",
    "\n",
    "# read the sample data set and select a record for submission to the endpoint\n",
    "sage_model.read_csv_data ('.')\n",
    "\n",
    "predict_features = sage_model.eval_data['features'][1337].tolist ()\n",
    "predict_label = sage_model.eval_data['labels'][1337].tolist ()\n",
    "\n",
    "print (\"Features length {}, type {}, data {}\".format (len(predict_features), type(predict_features), predict_features))\n",
    "print (\"True label: {}\".format (predict_label))"
   ]
  },
  {
   "cell_type": "code",
   "execution_count": null,
   "metadata": {},
   "outputs": [],
   "source": [
    "import pprint as pp\n",
    "\n",
    "# format the features record into a tensor proto suitable for TensorFlow submission and send it to the endpoint\n",
    "tensor_proto = tf.make_tensor_proto(values=np.asarray (predict_features), shape=[1, len(predict_features)], dtype=tf.float32)\n",
    "loan_grade = loan_grade_predictor.predict (tensor_proto)\n",
    "pp.pprint (loan_grade)"
   ]
  },
  {
   "cell_type": "code",
   "execution_count": null,
   "metadata": {
    "collapsed": true
   },
   "outputs": [],
   "source": [
    "# do this times a lot, generate a confusion matrix to show the results\n",
    "predict_limit = 1000\n",
    "features = sage_model.eval_data['features'][:predict_limit].tolist ()\n",
    "labels = np.argmax (sage_model.eval_data['labels'][:predict_limit].tolist (), axis = 1)\n",
    "predictions = []\n",
    "\n",
    "for f in features:\n",
    "    tensor_proto = tf.make_tensor_proto (values = np.asarray (f), shape = [1, len(f)], dtype = tf.float32)\n",
    "    pred_grade = loan_grade_predictor.predict (tensor_proto)\n",
    "    predictions.append (int (pred_grade['outputs']['classes']['int64Val'][0]))"
   ]
  },
  {
   "cell_type": "code",
   "execution_count": null,
   "metadata": {},
   "outputs": [],
   "source": [
    "import matplotlib.pyplot as plt\n",
    "import itertools \n",
    "from sklearn.metrics import accuracy_score, confusion_matrix\n",
    "\n",
    "accuracy = accuracy_score (labels, predictions)\n",
    "cf_matrix = confusion_matrix (labels, predictions)\n",
    "\n",
    "plt.imshow (cf_matrix, interpolation = 'nearest', cmap = plt.cm.Oranges)\n",
    "plt.title ('Endpoint Confusion Matrix')\n",
    "plt.colorbar ()\n",
    "classes = ['A', 'B', 'C', 'D', 'E', 'F', 'G']\n",
    "tick_marks = np.arange (len (classes))\n",
    "plt.yticks (tick_marks, classes)\n",
    "plt.xticks (tick_marks, classes)\n",
    "plt.ylabel ('True label')\n",
    "plt.xlabel ('Predicted label')\n",
    "\n",
    "thresh = cf_matrix.max() / 2.\n",
    "for i, j in itertools.product(range(cf_matrix.shape[0]), range(cf_matrix.shape[1])):\n",
    "        plt.text(j, i, format(cf_matrix[i, j], 'd'),\n",
    "                 horizontalalignment=\"center\",\n",
    "                 color=\"white\" if cf_matrix[i, j] > thresh else \"black\")\n",
    "\n",
    "plt.show ()\n",
    "print (\"Overall accuracy over {} samples: {}\".format (predict_limit, accuracy))"
   ]
  },
  {
   "cell_type": "code",
   "execution_count": null,
   "metadata": {
    "collapsed": true
   },
   "outputs": [],
   "source": [
    "# finally delete the endpoint\n",
    "from sagemaker import Session\n",
    "Session().delete_endpoint (loan_grade_predictor.endpoint)"
   ]
  }
 ],
 "metadata": {
  "kernelspec": {
   "display_name": "conda_tensorflow_p27",
   "language": "python",
   "name": "conda_tensorflow_p27"
  },
  "language_info": {
   "codemirror_mode": {
    "name": "ipython",
    "version": 2
   },
   "file_extension": ".py",
   "mimetype": "text/x-python",
   "name": "python",
   "nbconvert_exporter": "python",
   "pygments_lexer": "ipython2",
   "version": "2.7.11"
  }
 },
 "nbformat": 4,
 "nbformat_minor": 2
}
